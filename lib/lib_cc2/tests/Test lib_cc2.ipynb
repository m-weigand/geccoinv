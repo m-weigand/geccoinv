{
 "metadata": {
  "name": "",
  "signature": "sha256:26b5769d383bd83b52fa5ef892afcea5fcca6a03899d03e72ac457fb21ee34b8"
 },
 "nbformat": 3,
 "nbformat_minor": 0,
 "worksheets": [
  {
   "cells": [
    {
     "cell_type": "code",
     "collapsed": false,
     "input": [
      "%load_ext autoreload\n",
      "%autoreload\n",
      "\n",
      "%matplotlib inline\n",
      "\n",
      "import matplotlib as mpl\n",
      "mpl.use('Agg')\n",
      "import pylab as plt\n",
      "import numpy as np"
     ],
     "language": "python",
     "metadata": {},
     "outputs": [
      {
       "output_type": "stream",
       "stream": "stderr",
       "text": [
        "/usr/lib/python2.7/dist-packages/matplotlib/__init__.py:1314: UserWarning:  This call to matplotlib.use() has no effect\n",
        "because the backend has already been chosen;\n",
        "matplotlib.use() must be called *before* pylab, matplotlib.pyplot,\n",
        "or matplotlib.backends is imported for the first time.\n",
        "\n",
        "  warnings.warn(_use_error_msg)\n"
       ]
      }
     ],
     "prompt_number": 1
    },
    {
     "cell_type": "code",
     "collapsed": false,
     "input": [],
     "language": "python",
     "metadata": {},
     "outputs": [],
     "prompt_number": 1
    },
    {
     "cell_type": "code",
     "collapsed": false,
     "input": [
      "%load_ext autoreload\n",
      "%autoreload\n",
      "import lib_cc2\n",
      "\n",
      "frequencies = np.logspace(-3, 3, 40)\n",
      "cc = lib_cc2.cc_res(frequencies)\n",
      "\n",
      "# one or ore spectra\n",
      "pars1 = np.array([np.log10(100), 0.1, np.log10(0.04), 0.7])\n",
      "pars2 = np.array([np.log10(100), 0.1, np.log10(0.04), 0.7,\n",
      "                                 0.15, np.log10(0.0004), 1.0])\n",
      "\n",
      "# test vectorisation\n",
      "pars3 = np.array([[np.log10(100), 0.1, np.log10(0.04), 0.7],\n",
      "                  [np.log10(100), 0.1, np.log10(0.04), 0.7],\n",
      "                  [np.log10(10), 0.05, np.log10(0.04), 0.3]])\n",
      "\n",
      "pars4 = np.array([[np.log10(100), 0.1, np.log10(0.04), 0.7,\n",
      "                                 0.15, np.log10(0.0004), 1.0],\n",
      "                   [np.log10(100), 0.1, np.log10(0.1), 0.7,\n",
      "                                 0.15, np.log10(0.0001), 1.0],\n",
      "                   [np.log10(10), 0.1, np.log10(0.01), 0.7,\n",
      "                                 0.15, np.log10(0.0004), 1.0]])\n",
      "\n",
      "for p in (pars1, pars2, pars3, pars4):\n",
      "    print p.shape"
     ],
     "language": "python",
     "metadata": {},
     "outputs": [
      {
       "output_type": "stream",
       "stream": "stdout",
       "text": [
        "The autoreload extension is already loaded. To reload it, use:\n",
        "  %reload_ext autoreload\n",
        "(4,)\n",
        "(7,)\n",
        "(3, 4)\n",
        "(3, 7)\n"
       ]
      }
     ],
     "prompt_number": 2
    },
    {
     "cell_type": "heading",
     "level": 2,
     "metadata": {},
     "source": [
      "Test forward model"
     ]
    },
    {
     "cell_type": "code",
     "collapsed": false,
     "input": [
      "def forward(pars):\n",
      "    Z = cc.complex(pars)\n",
      "    rre = np.atleast_2d(np.real(Z))\n",
      "    rmim = np.atleast_2d(- np.imag(Z))\n",
      "\n",
      "    print 'rre', rre.shape\n",
      "    \n",
      "    for i in xrange(rre.shape[0]):\n",
      "        print rre[i].shape\n",
      "        fig, axes = plt.subplots(2, 1)\n",
      "        fig.suptitle('Spektrum {0}'.format(i))\n",
      "        ax = axes[0]\n",
      "        ax.semilogx(frequencies, rre[i, :])\n",
      "        ax = axes[1]\n",
      "        ax.semilogx(frequencies, rmim[i])\n",
      "    \n",
      "forward(pars1)\n",
      "forward(pars2)\n",
      "forward(pars3)\n",
      "forward(pars4)"
     ],
     "language": "python",
     "metadata": {},
     "outputs": [
      {
       "output_type": "stream",
       "stream": "stdout",
       "text": [
        "rre (1, 40)\n",
        "(40,)\n",
        "rre"
       ]
      },
      {
       "output_type": "stream",
       "stream": "stdout",
       "text": [
        " (1, 40)\n",
        "(40,)\n",
        "rre"
       ]
      },
      {
       "output_type": "stream",
       "stream": "stdout",
       "text": [
        " (3, 40)\n",
        "(40,)\n",
        "(40,)"
       ]
      },
      {
       "output_type": "stream",
       "stream": "stdout",
       "text": [
        "\n",
        "(40,)"
       ]
      },
      {
       "output_type": "stream",
       "stream": "stdout",
       "text": [
        "\n",
        "rre"
       ]
      },
      {
       "output_type": "stream",
       "stream": "stdout",
       "text": [
        " (3, 40)\n",
        "(40,)\n",
        "(40,)"
       ]
      },
      {
       "output_type": "stream",
       "stream": "stdout",
       "text": [
        "\n",
        "(40,)"
       ]
      },
      {
       "output_type": "stream",
       "stream": "stdout",
       "text": [
        "\n"
       ]
      },
      {
       "metadata": {},
       "output_type": "display_data",
       "png": "[encoded data removed]",
       "text": [
        "<matplotlib.figure.Figure at 0x7ff959d4f550>"
       ]
      },
      {
       "metadata": {},
       "output_type": "display_data",
       "png": "[encoded data removed]",
       "text": [
        "<matplotlib.figure.Figure at 0x7ff959d4f590>"
       ]
      },
      {
       "metadata": {},
       "output_type": "display_data",
       "png": "[encoded data removed]",
       "text": [
        "<matplotlib.figure.Figure at 0x7ff959b69290>"
       ]
      },
      {
       "metadata": {},
       "output_type": "display_data",
       "png": "[encoded data removed]",
       "text": [
        "<matplotlib.figure.Figure at 0x7ff959a53950>"
       ]
      },
      {
       "metadata": {},
       "output_type": "display_data",
       "png": "[encoded data removed]",
       "text": [
        "<matplotlib.figure.Figure at 0x7ff959947990>"
       ]
      },
      {
       "metadata": {},
       "output_type": "display_data",
       "png": "[encoded data removed]",
       "text": [
        "<matplotlib.figure.Figure at 0x7ff959840310>"
       ]
      },
      {
       "metadata": {},
       "output_type": "display_data",
       "png": "[encoded data removed]",
       "text": [
        "<matplotlib.figure.Figure at 0x7ff959736590>"
       ]
      },
      {
       "metadata": {},
       "output_type": "display_data",
       "png": "[encoded data removed]",
       "text": [
        "<matplotlib.figure.Figure at 0x7ff9596ac4d0>"
       ]
      }
     ],
     "prompt_number": 3
    },
    {
     "cell_type": "heading",
     "level": 3,
     "metadata": {},
     "source": [
      "$\\rho_0$ derivates"
     ]
    },
    {
     "cell_type": "code",
     "collapsed": false,
     "input": [
      "%load_ext autoreload\n",
      "%autoreload\n",
      "import lib_cc2\n",
      "\n",
      "frequencies = np.logspace(-3, 3, 40)\n",
      "cc = lib_cc2.cc_res(frequencies)\n",
      "\n",
      "# one or ore spectra\n",
      "pars1 = np.array([np.log10(100), 0.1, np.log10(0.04), 0.7])\n",
      "pars2 = np.array([np.log10(100), 0.1, np.log10(0.04), 0.7,\n",
      "                                 0.15, np.log10(0.0004), 1.0])\n",
      "\n",
      "# test vectorisation\n",
      "pars3 = np.array([[np.log10(100), 0.1, np.log10(0.04), 0.7],\n",
      "                  [np.log10(100), 0.1, np.log10(0.04), 0.7],\n",
      "                  [np.log10(10), 0.05, np.log10(0.04), 0.3]])\n",
      "\n",
      "pars4 = np.array([[np.log10(100), 0.1, np.log10(0.04), 0.7,\n",
      "                                 0.15, np.log10(0.0004), 1.0],\n",
      "                   [np.log10(100), 0.1, np.log10(0.1), 0.7,\n",
      "                                 0.15, np.log10(0.0001), 1.0],\n",
      "                   [np.log10(10), 0.1, np.log10(0.01), 0.7,\n",
      "                                 0.15, np.log10(0.0004), 1.0]])\n",
      "\n",
      "for p in (pars1, pars2, pars3, pars4):\n",
      "    print p.shape\n",
      "\n",
      "print 'Real part'\n",
      "print cc.dre_drho0(pars1).shape\n",
      "print cc.dre_drho0(pars2).shape\n",
      "print cc.dre_drho0(pars3).shape\n",
      "print cc.dre_drho0(pars4).shape\n",
      "\n",
      "print 'Imaginary part'\n",
      "print cc.dim_drho0(pars1).shape\n",
      "print cc.dim_drho0(pars2).shape\n",
      "print cc.dim_drho0(pars3).shape\n",
      "print cc.dim_drho0(pars4).shape"
     ],
     "language": "python",
     "metadata": {},
     "outputs": [
      {
       "output_type": "stream",
       "stream": "stdout",
       "text": [
        "The autoreload extension is already loaded. To reload it, use:\n",
        "  %reload_ext autoreload\n",
        "(4,)\n",
        "(7,)\n",
        "(3, 4)\n",
        "(3, 7)\n",
        "Real part\n",
        "(1, 40)\n",
        "(1, 40)\n",
        "(3, 40)\n",
        "(3, 40)\n",
        "Imaginary part\n",
        "(1, 40)\n",
        "(1, 40)\n",
        "(3, 40)\n",
        "(3, 40)\n"
       ]
      }
     ],
     "prompt_number": 44
    },
    {
     "cell_type": "code",
     "collapsed": false,
     "input": [
      "print cc.real(pars1)\n",
      "print cc.real(pars1)"
     ],
     "language": "python",
     "metadata": {},
     "outputs": [
      {
       "output_type": "stream",
       "stream": "stdout",
       "text": [
        "complex pars [ 2.          0.1        -1.39794001  0.7       ]\n",
        "[[ 99.98623103  99.98233701  99.97733495  99.97090532  99.96263385\n",
        "   99.9519819   99.93824677  99.92050809  99.89755508  99.86778724\n",
        "   99.82907871  99.77859347  99.71253664  99.62582807  99.51169394\n",
        "   99.36120154  99.1628293   98.90229275  98.56305057  98.12814007\n",
        "   97.58402952  96.92659594  96.16775382  95.33917393  94.48904824\n",
        "   93.67115243  92.93099332  92.2962204   91.77502986  91.36083287\n",
        "   91.03897786  90.79234944  90.60477019  90.46250611  90.35458853\n",
        "   90.27256138  90.2100314   90.16221     90.12552079  90.09728983]]\n",
        "complex pars [ 2.          0.1        -1.39794001  0.7       ]\n",
        "[[ 99.98623103  99.98233701  99.97733495  99.97090532  99.96263385\n",
        "   99.9519819   99.93824677  99.92050809  99.89755508  99.86778724\n",
        "   99.82907871  99.77859347  99.71253664  99.62582807  99.51169394\n",
        "   99.36120154  99.1628293   98.90229275  98.56305057  98.12814007\n",
        "   97.58402952  96.92659594  96.16775382  95.33917393  94.48904824\n",
        "   93.67115243  92.93099332  92.2962204   91.77502986  91.36083287\n",
        "   91.03897786  90.79234944  90.60477019  90.46250611  90.35458853\n",
        "   90.27256138  90.2100314   90.16221     90.12552079  90.09728983]]\n"
       ]
      }
     ],
     "prompt_number": 41
    },
    {
     "cell_type": "code",
     "collapsed": false,
     "input": [
      "# nummdiff\n",
      "import numdifftools as nd\n",
      "\n",
      "J = cc.Jacobian_re_im(pars1)\n",
      "Jre = J.squeeze().T\n",
      "drdr = cc.dre_dlnrho0(pars1)\n",
      "fun = lambda x: cc.real(x).squeeze()\n",
      "Jnum = nd.Jacobian(fun, method='forward')\n",
      "print pars1.shape\n",
      "\n",
      "Jrenum = Jnum(pars1)\n",
      "print fun(pars1)\n",
      "print drdr\n",
      "print Jrenum[:, 0]"
     ],
     "language": "python",
     "metadata": {},
     "outputs": [
      {
       "output_type": "stream",
       "stream": "stdout",
       "text": [
        "(4,)\n",
        "complex pars [ 2.          0.1        -1.39794001  0.7       ]\n",
        "complex pars [ 4.19722458  0.1        -1.39794001  0.7       ]\n",
        "complex pars [-0.19722458  0.1        -1.39794001  0.7       ]\n",
        "complex pars [ 3.09861229  0.1        -1.39794001  0.7       ]\n",
        "complex pars [ 0.90138771  0.1        -1.39794001  0.7       ]\n",
        "complex pars [ 2.54930614  0.1        -1.39794001  0.7       ]\n",
        "complex pars [ 1.45069386  0.1        -1.39794001  0.7       ]\n",
        "complex pars [ 2.27465307  0.1        -1.39794001  0.7       ]\n",
        "complex pars [ 1.72534693  0.1        -1.39794001  0.7       ]\n",
        "complex pars [ 2.13732654  0.1        -1.39794001  0.7       ]\n",
        "complex pars [ 1.86267346  0.1        -1.39794001  0.7       ]\n",
        "complex pars [ 2.06866327  0.1        -1.39794001  0.7       ]\n",
        "complex pars [ 1.93133673  0.1        -1.39794001  0.7       ]\n",
        "complex pars [ 2.03433163  0.1        -1.39794001  0.7       ]\n",
        "complex pars [ 1.96566837  0.1        -1.39794001  0.7       ]\n",
        "complex pars [ 2.01716582  0.1        -1.39794001  0.7       ]\n",
        "complex pars [ 1.98283418  0.1        -1.39794001  0.7       ]\n",
        "complex pars [ 2.00858291  0.1        -1.39794001  0.7       ]\n",
        "complex pars [ 1.99141709  0.1        -1.39794001  0.7       ]\n",
        "complex pars [ 2.00429145  0.1        -1.39794001  0.7       ]\n",
        "complex pars [ 1.99570855  0.1        -1.39794001  0.7       ]\n",
        "complex pars [ 2.00214573  0.1        -1.39794001  0.7       ]\n",
        "complex pars [ 1.99785427  0.1        -1.39794001  0.7       ]"
       ]
      },
      {
       "output_type": "stream",
       "stream": "stdout",
       "text": [
        "\n",
        "complex pars [ 2.00107286  0.1        -1.39794001  0.7       ]\n",
        "complex pars [ 1.99892714  0.1        -1.39794001  0.7       ]\n",
        "complex pars [ 2.00053643  0.1        -1.39794001  0.7       ]\n",
        "complex pars [ 1.99946357  0.1        -1.39794001  0.7       ]\n",
        "complex pars [ 2.00026822  0.1        -1.39794001  0.7       ]\n",
        "complex pars [ 1.99973178  0.1        -1.39794001  0.7       ]\n",
        "complex pars [ 2.00013411  0.1        -1.39794001  0.7       ]\n",
        "complex pars [ 1.99986589  0.1        -1.39794001  0.7       ]\n",
        "complex pars [ 2.00006705  0.1        -1.39794001  0.7       ]\n",
        "complex pars [ 1.99993295  0.1        -1.39794001  0.7       ]\n",
        "complex pars [ 2.00003353  0.1        -1.39794001  0.7       ]\n",
        "complex pars [ 1.99996647  0.1        -1.39794001  0.7       ]\n",
        "complex pars [ 2.00001676  0.1        -1.39794001  0.7       ]\n",
        "complex pars [ 1.99998324  0.1        -1.39794001  0.7       ]\n",
        "complex pars [ 2.00000838  0.1        -1.39794001  0.7       ]\n",
        "complex pars [ 1.99999162  0.1        -1.39794001  0.7       ]\n",
        "complex pars [ 2.00000419  0.1        -1.39794001  0.7       ]\n",
        "complex pars [ 1.99999581  0.1        -1.39794001  0.7       ]\n",
        "complex pars [ 2.0000021   0.1        -1.39794001  0.7       ]\n",
        "complex pars [ 1.9999979   0.1        -1.39794001  0.7       ]\n",
        "complex pars [ 2.00000105  0.1        -1.39794001  0.7       ]\n",
        "complex pars [ 1.99999895  0.1        -1.39794001  0.7       ]\n",
        "complex pars [ 2.00000052  0.1        -1.39794001  0.7       ]\n",
        "complex pars [ 1.99999948  0.1        -1.39794001  0.7       ]\n",
        "complex pars [ 2.00000026  0.1        -1.39794001  0.7       ]\n",
        "complex pars [ 1.99999974  0.1        -1.39794001  0.7       ]\n",
        "complex pars [ 2.00000013  0.1        -1.39794001  0.7       ]\n",
        "complex pars [ 1.99999987  0.1        -1.39794001  0.7       ]\n",
        "complex pars [ 2.00000007  0.1        -1.39794001  0.7       ]"
       ]
      },
      {
       "output_type": "stream",
       "stream": "stdout",
       "text": [
        "\n",
        "complex pars [ 1.99999993  0.1        -1.39794001  0.7       ]\n",
        "complex pars"
       ]
      },
      {
       "output_type": "stream",
       "stream": "stdout",
       "text": [
        " [ 2.          0.29062036 -1.39794001  0.7       ]\n",
        "complex pars [ 2.         -0.09062036 -1.39794001  0.7       ]\n",
        "complex pars [ 2.          0.19531018 -1.39794001  0.7       ]\n",
        "complex pars [ 2.          0.00468982 -1.39794001  0.7       ]\n",
        "complex pars [ 2.          0.14765509 -1.39794001  0.7       ]\n",
        "complex pars [ 2.          0.05234491 -1.39794001  0.7       ]\n",
        "complex pars [ 2.          0.12382754 -1.39794001  0.7       ]\n",
        "complex pars [ 2.          0.07617246 -1.39794001  0.7       ]\n",
        "complex pars [ 2.          0.11191377 -1.39794001  0.7       ]\n",
        "complex pars [ 2.          0.08808623 -1.39794001  0.7       ]\n",
        "complex pars [ 2.          0.10595689 -1.39794001  0.7       ]\n",
        "complex pars [ 2.          0.09404311 -1.39794001  0.7       ]\n",
        "complex pars [ 2.          0.10297844 -1.39794001  0.7       ]\n",
        "complex pars [ 2.          0.09702156 -1.39794001  0.7       ]\n",
        "complex pars [ 2.          0.10148922 -1.39794001  0.7       ]\n",
        "complex pars [ 2.          0.09851078 -1.39794001  0.7       ]\n",
        "complex pars [ 2.          0.10074461 -1.39794001  0.7       ]\n",
        "complex pars [ 2.          0.09925539 -1.39794001  0.7       ]\n",
        "complex pars [ 2.          0.10037231 -1.39794001  0.7       ]\n",
        "complex pars [ 2.          0.09962769 -1.39794001  0.7       ]\n",
        "complex pars [ 2.          0.10018615 -1.39794001  0.7       ]\n",
        "complex pars [ 2.          0.09981385 -1.39794001  0.7       ]\n",
        "complex pars [ 2.          0.10009308 -1.39794001  0.7       ]\n",
        "complex pars [ 2.          0.09990692 -1.39794001  0.7       ]\n",
        "complex pars [ 2.          0.10004654 -1.39794001  0.7       ]\n",
        "complex pars [ 2.          0.09995346 -1.39794001  0.7       ]\n",
        "complex pars [ 2.          0.10002327 -1.39794001  0.7       ]\n",
        "complex pars [ 2.          0.09997673 -1.39794001  0.7       ]\n",
        "complex pars [ 2.          0.10001163 -1.39794001  0.7       ]"
       ]
      },
      {
       "output_type": "stream",
       "stream": "stdout",
       "text": [
        "\n",
        "complex pars [ 2.          0.09998837 -1.39794001  0.7       ]\n",
        "complex pars [ 2.          0.10000582 -1.39794001  0.7       ]\n",
        "complex pars [ 2.          0.09999418 -1.39794001  0.7       ]\n",
        "complex pars [ 2.          0.10000291 -1.39794001  0.7       ]\n",
        "complex pars [ 2.          0.09999709 -1.39794001  0.7       ]\n",
        "complex pars [ 2.          0.10000145 -1.39794001  0.7       ]\n",
        "complex pars [ 2.          0.09999855 -1.39794001  0.7       ]\n",
        "complex pars [ 2.          0.10000073 -1.39794001  0.7       ]\n",
        "complex pars [ 2.          0.09999927 -1.39794001  0.7       ]\n",
        "complex pars [ 2.          0.10000036 -1.39794001  0.7       ]\n",
        "complex pars [ 2.          0.09999964 -1.39794001  0.7       ]\n",
        "complex pars [ 2.          0.10000018 -1.39794001  0.7       ]\n",
        "complex pars [ 2.          0.09999982 -1.39794001  0.7       ]\n",
        "complex pars [ 2.          0.10000009 -1.39794001  0.7       ]\n",
        "complex pars [ 2.          0.09999991 -1.39794001  0.7       ]\n",
        "complex pars [ 2.          0.10000005 -1.39794001  0.7       ]\n",
        "complex pars [ 2.          0.09999995 -1.39794001  0.7       ]\n",
        "complex pars [ 2.          0.10000002 -1.39794001  0.7       ]\n",
        "complex pars [ 2.          0.09999998 -1.39794001  0.7       ]\n",
        "complex pars [ 2.          0.10000001 -1.39794001  0.7       ]\n",
        "complex pars [ 2.          0.09999999 -1.39794001  0.7       ]\n",
        "complex pars [ 2.          0.10000001 -1.39794001  0.7       ]\n",
        "complex pars [ 2.          0.09999999 -1.39794001  0.7       ]\n",
        "complex pars"
       ]
      },
      {
       "output_type": "stream",
       "stream": "stdout",
       "text": [
        " [ 2.          0.1         0.35128007  0.7       ]\n",
        "complex pars [ 2.          0.1        -3.14716009  0.7       ]\n",
        "complex pars [ 2.          0.1        -0.52332997  0.7       ]\n",
        "complex pars [ 2.          0.1        -2.27255005  0.7       ]\n",
        "complex pars [ 2.          0.1        -0.96063499  0.7       ]\n",
        "complex pars [ 2.          0.1        -1.83524503  0.7       ]\n",
        "complex pars [ 2.         0.1       -1.1792875  0.7      ]\n",
        "complex pars [ 2.          0.1        -1.61659252  0.7       ]\n",
        "complex pars [ 2.          0.1        -1.28861375  0.7       ]\n",
        "complex pars [ 2.          0.1        -1.50726626  0.7       ]\n",
        "complex pars [ 2.          0.1        -1.34327688  0.7       ]\n",
        "complex pars [ 2.          0.1        -1.45260314  0.7       ]\n",
        "complex pars [ 2.          0.1        -1.37060844  0.7       ]\n",
        "complex pars [ 2.          0.1        -1.42527157  0.7       ]"
       ]
      },
      {
       "output_type": "stream",
       "stream": "stdout",
       "text": [
        "\n",
        "complex pars [ 2.          0.1        -1.38427423  0.7       ]\n",
        "complex pars [ 2.          0.1        -1.41160579  0.7       ]\n",
        "complex pars [ 2.          0.1        -1.39110712  0.7       ]\n",
        "complex pars [ 2.         0.1       -1.4047729  0.7      ]\n",
        "complex pars [ 2.          0.1        -1.39452356  0.7       ]\n",
        "complex pars [ 2.          0.1        -1.40135645  0.7       ]\n",
        "complex pars [ 2.          0.1        -1.39623179  0.7       ]\n",
        "complex pars [ 2.          0.1        -1.39964823  0.7       ]\n",
        "complex pars [ 2.         0.1       -1.3970859  0.7      ]\n",
        "complex pars [ 2.          0.1        -1.39879412  0.7       ]\n",
        "complex pars [ 2.          0.1        -1.39751295  0.7       ]\n",
        "complex pars [ 2.          0.1        -1.39836706  0.7       ]\n",
        "complex pars [ 2.          0.1        -1.39772648  0.7       ]\n",
        "complex pars [ 2.          0.1        -1.39815354  0.7       ]\n",
        "complex pars [ 2.          0.1        -1.39783324  0.7       ]\n",
        "complex pars [ 2.          0.1        -1.39804677  0.7       ]\n",
        "complex pars [ 2.          0.1        -1.39788663  0.7       ]\n",
        "complex pars"
       ]
      },
      {
       "output_type": "stream",
       "stream": "stdout",
       "text": [
        " [ 2.          0.1        -1.39799339  0.7       ]\n",
        "complex pars [ 2.          0.1        -1.39791332  0.7       ]\n",
        "complex pars [ 2.         0.1       -1.3979667  0.7      ]\n",
        "complex pars [ 2.          0.1        -1.39792666  0.7       ]\n",
        "complex pars [ 2.          0.1        -1.39795335  0.7       ]\n",
        "complex pars [ 2.          0.1        -1.39793334  0.7       ]\n",
        "complex pars [ 2.          0.1        -1.39794668  0.7       ]\n",
        "complex pars [ 2.          0.1        -1.39793667  0.7       ]\n",
        "complex pars [ 2.          0.1        -1.39794335  0.7       ]\n",
        "complex pars [ 2.          0.1        -1.39793834  0.7       ]\n",
        "complex pars [ 2.          0.1        -1.39794168  0.7       ]\n",
        "complex pars [ 2.          0.1        -1.39793917  0.7       ]\n",
        "complex pars [ 2.          0.1        -1.39794084  0.7       ]\n",
        "complex pars [ 2.          0.1        -1.39793959  0.7       ]\n",
        "complex pars [ 2.          0.1        -1.39794043  0.7       ]\n",
        "complex pars [ 2.         0.1       -1.3979398  0.7      ]\n",
        "complex pars [ 2.          0.1        -1.39794022  0.7       ]\n",
        "complex pars [ 2.         0.1       -1.3979399  0.7      ]\n",
        "complex pars [ 2.          0.1        -1.39794011  0.7       ]\n",
        "complex pars [ 2.          0.1        -1.39793996  0.7       ]\n",
        "complex pars [ 2.          0.1        -1.39794006  0.7       ]\n",
        "complex pars"
       ]
      },
      {
       "output_type": "stream",
       "stream": "stdout",
       "text": [
        " [ 2.          0.1        -1.39794001  1.7612565 ]\n",
        "complex pars [ 2.          0.1        -1.39794001 -0.3612565 ]\n",
        "complex pars [ 2.          0.1        -1.39794001  1.23062825]\n",
        "complex pars [ 2.          0.1        -1.39794001  0.16937175]\n",
        "complex pars [ 2.          0.1        -1.39794001  0.96531413]\n",
        "complex pars"
       ]
      },
      {
       "output_type": "stream",
       "stream": "stdout",
       "text": [
        " [ 2.          0.1        -1.39794001  0.43468587]\n",
        "complex pars [ 2.          0.1        -1.39794001  0.83265706]\n",
        "complex pars [ 2.          0.1        -1.39794001  0.56734294]\n",
        "complex pars [ 2.          0.1        -1.39794001  0.76632853]\n",
        "complex pars [ 2.          0.1        -1.39794001  0.63367147]\n",
        "complex pars [ 2.          0.1        -1.39794001  0.73316427]\n",
        "complex pars [ 2.          0.1        -1.39794001  0.66683573]\n",
        "complex pars [ 2.          0.1        -1.39794001  0.71658213]\n",
        "complex pars [ 2.          0.1        -1.39794001  0.68341787]\n",
        "complex pars [ 2.          0.1        -1.39794001  0.70829107]\n",
        "complex pars [ 2.          0.1        -1.39794001  0.69170893]\n",
        "complex pars [ 2.          0.1        -1.39794001  0.70414553]\n",
        "complex pars [ 2.          0.1        -1.39794001  0.69585447]\n",
        "complex pars [ 2.          0.1        -1.39794001  0.70207277]\n",
        "complex pars [ 2.          0.1        -1.39794001  0.69792723]\n",
        "complex pars [ 2.          0.1        -1.39794001  0.70103638]\n",
        "complex pars [ 2.          0.1        -1.39794001  0.69896362]\n",
        "complex pars [ 2.          0.1        -1.39794001  0.70051819]\n",
        "complex pars [ 2.          0.1        -1.39794001  0.69948181]\n",
        "complex pars [ 2.          0.1        -1.39794001  0.7002591 ]\n",
        "complex pars [ 2.          0.1        -1.39794001  0.6997409 ]\n",
        "complex pars [ 2.          0.1        -1.39794001  0.70012955]\n",
        "complex pars [ 2.          0.1        -1.39794001  0.69987045]\n",
        "complex pars [ 2.          0.1        -1.39794001  0.70006477]\n",
        "complex pars [ 2.          0.1        -1.39794001  0.69993523]\n",
        "complex pars [ 2.          0.1        -1.39794001  0.70003239]"
       ]
      },
      {
       "output_type": "stream",
       "stream": "stdout",
       "text": [
        "\n",
        "complex pars [ 2.          0.1        -1.39794001  0.69996761]\n",
        "complex pars [ 2.          0.1        -1.39794001  0.70001619]\n",
        "complex pars [ 2.          0.1        -1.39794001  0.69998381]\n",
        "complex pars [ 2.          0.1        -1.39794001  0.7000081 ]\n",
        "complex pars [ 2.          0.1        -1.39794001  0.6999919 ]\n",
        "complex pars [ 2.          0.1        -1.39794001  0.70000405]\n",
        "complex pars [ 2.          0.1        -1.39794001  0.69999595]\n",
        "complex pars [ 2.          0.1        -1.39794001  0.70000202]\n",
        "complex pars [ 2.          0.1        -1.39794001  0.69999798]\n",
        "complex pars [ 2.          0.1        -1.39794001  0.70000101]\n",
        "complex pars [ 2.          0.1        -1.39794001  0.69999899]\n",
        "complex pars [ 2.          0.1        -1.39794001  0.70000051]\n",
        "complex pars [ 2.          0.1        -1.39794001  0.69999949]\n",
        "complex pars [ 2.          0.1        -1.39794001  0.70000025]\n",
        "complex pars [ 2.          0.1        -1.39794001  0.69999975]\n",
        "complex pars [ 2.          0.1        -1.39794001  0.70000013]\n",
        "complex pars [ 2.          0.1        -1.39794001  0.69999987]\n",
        "complex pars [ 2.          0.1        -1.39794001  0.70000006]\n",
        "complex pars [ 2.          0.1        -1.39794001  0.69999994]\n",
        "complex pars [ 2.          0.1        -1.39794001  0.70000003]\n",
        "complex pars [ 2.          0.1        -1.39794001  0.69999997]\n",
        "complex pars"
       ]
      },
      {
       "output_type": "stream",
       "stream": "stdout",
       "text": [
        " [ 2.          0.1        -1.39794001  0.7       ]\n",
        "[ 99.98623103  99.98233701  99.97733495  99.97090532  99.96263385\n",
        "  99.9519819   99.93824677  99.92050809  99.89755508  99.86778724\n",
        "  99.82907871  99.77859347  99.71253664  99.62582807  99.51169394\n",
        "  99.36120154  99.1628293   98.90229275  98.56305057  98.12814007\n",
        "  97.58402952  96.92659594  96.16775382  95.33917393  94.48904824\n",
        "  93.67115243  92.93099332  92.2962204   91.77502986  91.36083287\n",
        "  91.03897786  90.79234944  90.60477019  90.46250611  90.35458853\n",
        "  90.27256138  90.2100314   90.16221     90.12552079  90.09728983]\n",
        "[[ 230.22491882  230.21474385  230.20124417  230.18319043  230.15882148\n",
        "   230.12557831  230.07969184  230.01554108  229.92465189  229.79413663\n",
        "   229.6042733   229.32478239  228.909184    228.28643844  227.34899352\n",
        "   225.93663046  223.8166267   220.66359473  216.047922    209.45010448\n",
        "   200.32579725  188.24212757  173.07355196  155.18360707  135.47093755\n",
        "   115.19902793   95.66704261   77.89402916   62.46220221   49.53818855\n",
        "    38.99513356   30.54931845   23.86418019   18.61240379   14.50515242\n",
        "    11.30102104    8.80455827    6.86045304    5.34662108    4.16767385]]\n",
        "[ 230.22680507  230.21783876  230.20632109  230.19151633  230.17247057\n",
        "  230.14794355  230.11631723  230.07547241  230.02262114  229.95407817\n",
        "  229.86494849  229.74870192  229.59660046  229.39694659  229.13414303\n",
        "  228.78762149  228.33085252  227.73094495  226.94981097  225.94839252\n",
        "  224.6955317   223.18173493  221.43443637  219.52656067  217.56907394\n",
        "  215.68579924  213.98151989  212.51990124  211.31981567  210.36609184\n",
        "  209.62499331  209.05711037  208.62519318  208.29761805  208.04912864\n",
        "  207.86025414  207.71627355  207.60616069  207.52168067  207.45667648]\n"
       ]
      }
     ],
     "prompt_number": 45
    },
    {
     "cell_type": "heading",
     "level": 1,
     "metadata": {},
     "source": [
      "m derivates"
     ]
    },
    {
     "cell_type": "code",
     "collapsed": false,
     "input": [
      "%load_ext autoreload\n",
      "%autoreload\n",
      "import lib_cc2\n",
      "\n",
      "frequencies = np.logspace(-3, 3, 40)\n",
      "cc = lib_cc2.cc_res(frequencies)\n",
      "\n",
      "# one or ore spectra\n",
      "pars1 = np.array([np.log10(100), 0.1, np.log10(0.04), 0.7])\n",
      "pars2 = np.array([np.log10(100), 0.1, np.log10(0.04), 0.7,\n",
      "                                 0.15, np.log10(0.0004), 1.0])\n",
      "\n",
      "# test vectorisation\n",
      "pars3 = np.array([[np.log10(100), 0.1, np.log10(0.04), 0.7],\n",
      "                  [np.log10(100), 0.1, np.log10(0.04), 0.7],\n",
      "                  [np.log10(10), 0.05, np.log10(0.04), 0.3]])\n",
      "\n",
      "pars4 = np.array([[np.log10(100), 0.1, np.log10(0.04), 0.7,\n",
      "                                 0.15, np.log10(0.0004), 1.0],\n",
      "                   [np.log10(100), 0.1, np.log10(0.1), 0.7,\n",
      "                                 0.15, np.log10(0.0001), 1.0],\n",
      "                   [np.log10(10), 0.1, np.log10(0.01), 0.7,\n",
      "                                 0.15, np.log10(0.0004), 1.0]])\n",
      "\n",
      "for p in (pars1, pars2, pars3, pars4):\n",
      "    print p.shape\n",
      "\n",
      "print 'Real part'\n",
      "print cc.dre_dm(pars1).shape\n",
      "print cc.dre_dm(pars2).shape\n",
      "print cc.dre_dm(pars3).shape\n",
      "print cc.dre_dm(pars4).shape\n",
      "\n",
      "print 'Imaginary part'\n",
      "print cc.dim_dm(pars1).shape\n",
      "print cc.dim_dm(pars2).shape\n",
      "print cc.dim_dm(pars3).shape\n",
      "print cc.dim_dm(pars4).shape"
     ],
     "language": "python",
     "metadata": {},
     "outputs": []
    },
    {
     "cell_type": "heading",
     "level": 1,
     "metadata": {},
     "source": [
      "tau derivatives"
     ]
    },
    {
     "cell_type": "code",
     "collapsed": false,
     "input": [
      "%load_ext autoreload\n",
      "%autoreload\n",
      "import lib_cc2\n",
      "\n",
      "frequencies = np.logspace(-3, 3, 40)\n",
      "cc = lib_cc2.cc_res(frequencies)\n",
      "\n",
      "# one or ore spectra\n",
      "pars1 = np.array([np.log10(100), 0.1, np.log10(0.04), 0.7])\n",
      "pars2 = np.array([np.log10(100), 0.1, np.log10(0.04), 0.7,\n",
      "                                 0.15, np.log10(0.0004), 1.0])\n",
      "\n",
      "# test vectorisation\n",
      "pars3 = np.array([[np.log10(100), 0.1, np.log10(0.04), 0.7],\n",
      "                  [np.log10(100), 0.1, np.log10(0.04), 0.7],\n",
      "                  [np.log10(10), 0.05, np.log10(0.04), 0.3]])\n",
      "\n",
      "pars4 = np.array([[np.log10(100), 0.1, np.log10(0.04), 0.7,\n",
      "                                 0.15, np.log10(0.0004), 1.0],\n",
      "                   [np.log10(100), 0.1, np.log10(0.1), 0.7,\n",
      "                                 0.15, np.log10(0.0001), 1.0],\n",
      "                   [np.log10(10), 0.1, np.log10(0.01), 0.7,\n",
      "                                 0.15, np.log10(0.0004), 1.0]])\n",
      "\n",
      "for p in (pars1, pars2, pars3, pars4):\n",
      "    print p.shape\n",
      "\n",
      "print 'Real part'\n",
      "print cc.dre_dtau(pars1).shape\n",
      "print cc.dre_dtau(pars2).shape\n",
      "print cc.dre_dtau(pars3).shape\n",
      "print cc.dre_dtau(pars4).shape\n",
      "\n",
      "print cc.dre_dlntau(pars1).shape\n",
      "print cc.dre_dlntau(pars2).shape\n",
      "print cc.dre_dlntau(pars3).shape\n",
      "print cc.dre_dlntau(pars4).shape\n",
      "\n",
      "print 'Imaginary part'\n",
      "print cc.dim_dtau(pars1).shape\n",
      "print cc.dim_dtau(pars2).shape\n",
      "print cc.dim_dtau(pars3).shape\n",
      "print cc.dim_dtau(pars4).shape\n",
      "\n",
      "print cc.dim_dlntau(pars1).shape\n",
      "print cc.dim_dlntau(pars2).shape\n",
      "print cc.dim_dlntau(pars3).shape\n",
      "print cc.dim_dlntau(pars4).shape"
     ],
     "language": "python",
     "metadata": {},
     "outputs": []
    },
    {
     "cell_type": "heading",
     "level": 1,
     "metadata": {},
     "source": [
      "c derivatives"
     ]
    },
    {
     "cell_type": "code",
     "collapsed": false,
     "input": [
      "%load_ext autoreload\n",
      "%autoreload\n",
      "import lib_cc2\n",
      "\n",
      "frequencies = np.logspace(-3, 3, 40)\n",
      "cc = lib_cc2.cc_res(frequencies)\n",
      "\n",
      "# one or ore spectra\n",
      "pars1 = np.array([np.log10(100), 0.1, np.log10(0.04), 0.7])\n",
      "pars2 = np.array([np.log10(100), 0.1, np.log10(0.04), 0.7,\n",
      "                                 0.15, np.log10(0.0004), 1.0])\n",
      "\n",
      "# test vectorisation\n",
      "pars3 = np.array([[np.log10(100), 0.1, np.log10(0.04), 0.7],\n",
      "                  [np.log10(100), 0.1, np.log10(0.04), 0.7],\n",
      "                  [np.log10(10), 0.05, np.log10(0.04), 0.3]])\n",
      "\n",
      "pars4 = np.array([[np.log10(100), 0.1, np.log10(0.04), 0.7,\n",
      "                                 0.15, np.log10(0.0004), 1.0],\n",
      "                   [np.log10(100), 0.1, np.log10(0.1), 0.7,\n",
      "                                 0.15, np.log10(0.0001), 1.0],\n",
      "                   [np.log10(10), 0.1, np.log10(0.01), 0.7,\n",
      "                                 0.15, np.log10(0.0004), 1.0]])\n",
      "\n",
      "for p in (pars1, pars2, pars3, pars4):\n",
      "    print p.shape\n",
      "\n",
      "print 'Real part'\n",
      "print cc.dre_dc(pars1).shape\n",
      "print cc.dre_dc(pars2).shape\n",
      "print cc.dre_dc(pars3).shape\n",
      "print cc.dre_dc(pars4).shape\n",
      "\n",
      "print 'Imaginary part'\n",
      "print cc.dim_dc(pars1).shape\n",
      "print cc.dim_dc(pars2).shape\n",
      "print cc.dim_dc(pars3).shape\n",
      "print cc.dim_dc(pars4).shape"
     ],
     "language": "python",
     "metadata": {},
     "outputs": []
    },
    {
     "cell_type": "heading",
     "level": 1,
     "metadata": {},
     "source": [
      "Jacobian"
     ]
    },
    {
     "cell_type": "code",
     "collapsed": false,
     "input": [
      "%load_ext autoreload\n",
      "%autoreload\n",
      "import lib_cc2\n",
      "\n",
      "frequencies = np.logspace(-3, 3, 40)\n",
      "cc = lib_cc2.cc_res(frequencies)\n",
      "\n",
      "# one or ore spectra\n",
      "pars1 = np.array([np.log10(100), 0.1, np.log10(0.04), 0.7])\n",
      "pars2 = np.array([np.log10(100), 0.1, np.log10(0.04), 0.7,\n",
      "                                 0.15, np.log10(0.0004), 1.0])\n",
      "\n",
      "# test vectorisation\n",
      "pars3 = np.array([[np.log10(100), 0.1, np.log10(0.04), 0.7],\n",
      "                  [np.log10(100), 0.1, np.log10(0.04), 0.7],\n",
      "                  [np.log10(10), 0.05, np.log10(0.04), 0.3]])\n",
      "\n",
      "pars4 = np.array([[np.log10(100), 0.1, np.log10(0.04), 0.7,\n",
      "                                 0.15, np.log10(0.0004), 1.0],\n",
      "                   [np.log10(100), 0.1, np.log10(0.1), 0.7,\n",
      "                                 0.15, np.log10(0.0001), 1.0],\n",
      "                   [np.log10(10), 0.1, np.log10(0.01), 0.7,\n",
      "                                 0.15, np.log10(0.0004), 1.0]])\n",
      "\n",
      "for p in (pars1, pars2, pars3, pars4):\n",
      "    print p.shape\n",
      "\n",
      "print 'Jacobian Re-Im'\n",
      "print cc.Jacobian_re_im(pars1).shape\n",
      "print cc.Jacobian_re_im(pars2).shape\n",
      "print cc.Jacobian_re_im(pars3).shape\n",
      "print cc.Jacobian_re_im(pars4).shape"
     ],
     "language": "python",
     "metadata": {},
     "outputs": []
    }
   ],
   "metadata": {}
  }
 ]
}