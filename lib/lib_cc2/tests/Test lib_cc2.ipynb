{
 "metadata": {
  "name": "Test lib_cc2"
 },
 "nbformat": 3,
 "nbformat_minor": 0,
 "worksheets": [
  {
   "cells": [
    {
     "cell_type": "code",
     "collapsed": false,
     "input": [
      "%load_ext autoreload\n",
      "%autoreload"
     ],
     "language": "python",
     "metadata": {},
     "outputs": [],
     "prompt_number": 2
    },
    {
     "cell_type": "code",
     "collapsed": false,
     "input": [
      "import lib_cc2\n",
      "\n",
      "frequencies = np.logspace(-3, 3, 40)\n",
      "cc = lib_cc2.colecole(frequencies)\n",
      "pars = [np.log(100), 0.1, np.log(0.04), 0.7]\n",
      "\n",
      "cc.set_parameters(pars)\n",
      "\n",
      "\n",
      "def forward():\n",
      "    mag, pha = cc.mag_pha()\n",
      "\n",
      "    fig, axes = plt.subplots(2, 1)\n",
      "    ax = axes[0]\n",
      "    ax.semilogx(frequencies, mag)\n",
      "    ax = axes[1]\n",
      "    ax.semilogx(frequencies, -pha)\n",
      " \n",
      "print cc.dre_drho0()\n",
      "cc.dre_dlnrho0()\n",
      "print cc.dre_dlnrho0()\n",
      "J = cc.Jacobian_re_im()\n",
      "print J.shape"
     ],
     "language": "python",
     "metadata": {},
     "outputs": [
      {
       "output_type": "stream",
       "stream": "stdout",
       "text": [
        "[ 0.99985412  0.99980993  0.9997513   0.99967289  0.99956706  0.99942269\n",
        "  0.99922341  0.9989448   0.99855008  0.99798326  0.99715869  0.99594488\n",
        "  0.99413995  0.99143541  0.98736413  0.98123032  0.97202326  0.95832982\n",
        "  0.9382842   0.90963025  0.87000388  0.81752517  0.75164889  0.67395384\n",
        "  0.58834281  0.50030302  0.41547669  0.33828947  0.2712699   0.21514162\n",
        "  0.16935371  0.132674    0.10364082  0.08083264  0.06299508  0.04907971\n",
        "  0.03823771  0.02979457  0.02322008  0.01809998]\n",
        "[ 0.00999992  0.00999987  0.00999978  0.00999964  0.00999941  0.00999903\n",
        "  0.00999841  0.0099974   0.00999574  0.00999304  0.00998866  0.00998155\n",
        "  0.00997006  0.00995159  0.00992209  0.00987539  0.00980229  0.00968966\n",
        "  0.00951963  0.00926982  0.00891543  0.00843448  0.00781602  0.00706901\n",
        "  0.00622657  0.00534106  0.00447081  0.00366526  0.00295581  0.00235486\n",
        "  0.00186023  0.00146129  0.00114388  0.00089355  0.0006972   0.00054368\n",
        "  0.00042387  0.00033046  0.00025764  0.00020089]\n",
        "(8, 40)\n"
       ]
      }
     ],
     "prompt_number": 3
    },
    {
     "cell_type": "heading",
     "level": 3,
     "metadata": {},
     "source": [
      "Vectorisation"
     ]
    },
    {
     "cell_type": "code",
     "collapsed": false,
     "input": [
      "%load_ext autoreload\n",
      "%autoreload\n",
      "import lib_cc2\n",
      "\n",
      "frequencies = np.logspace(-3, 3, 40)\n",
      "cc = lib_cc2.colecole(frequencies)\n",
      "\n",
      "pars = ((np.log(100), np.log(50)),\n",
      "        (0.1, 0.2),\n",
      "        (np.log(0.04), np.log(0.004)),\n",
      "        (0.6, 0.7)\n",
      "        )\n",
      "     \n",
      "cc.set_parameters(pars)\n",
      "\n",
      "mag, pha = cc.mag_pha()\n",
      "print mag.shape\n",
      "print pha.shape\n",
      "for m, p in zip(mag, pha):\n",
      "    fig, axes = plt.subplots(2, 1)\n",
      "    ax = axes[0]\n",
      "    ax.semilogx(frequencies, m)\n",
      "    ax = axes[1]\n",
      "    ax.semilogx(frequencies, -p)"
     ],
     "language": "python",
     "metadata": {},
     "outputs": [
      {
       "output_type": "stream",
       "stream": "stdout",
       "text": [
        "(2, 40)\n",
        "(2, 40)\n"
       ]
      },
      {
       "output_type": "display_data",
       "png": "[encoded data removed]"
      },
      {
       "output_type": "display_data",
       "png": "[encoded data removed]"
      }
     ],
     "prompt_number": 77
    },
    {
     "cell_type": "code",
     "collapsed": false,
     "input": [
      "freuencies = np.logspace(-3, 4, 200)\n",
      "pars = []\n",
      "pars.append(np.log(np.ones(1000) * 100))\n",
      "pars.append(np.ones(1000) * 0.1)\n",
      "pars.append(np.log(np.ones(1000) * 0.04))\n",
      "pars.append(np.ones(1000) * 0.7)\n",
      "\n",
      "rho0 = np.exp(pars[0])                                              \n",
      "m = pars[1]                                                         \n",
      "tau = np.exp(pars[2])                                               \n",
      "c = pars[3]\n",
      "w = 2 * np.pi * frequencies\n",
      "\n",
      "print c.shape, w.shape\n",
      "\n",
      "def t1():\n",
      "    new_size = (c.size, w.size)\n",
      "    nsr = [i for i in reversed(new_size)]\n",
      "    w1 = np.resize(w, new_size)\n",
      "    c1 = np.resize(c, nsr).T\n",
      "    rho01 = np.resize(rho0, nsr).T\n",
      "    m1 = np.resize(m, nsr).T\n",
      "    tau1 = np.resize(tau, nsr).T\n",
      "\n",
      "    rho = rho01 * (1 - m1 * (1 - (1 / (1 + (1j * w1 * tau1)**c1))))\n",
      "    return rho\n",
      "\n",
      "def t2():\n",
      "    Z = []\n",
      "    for nr in range(0, rho0.size):\n",
      "        rho = rho0[nr] * (1 - m[nr] * (1 - (1 / (1 + (1j * w * tau[nr])**c[nr]))))\n",
      "        Z.append(rho)\n",
      "    Z = np.array(Z)\n",
      "    return Z\n",
      "\n",
      "\n",
      "\n",
      "def plot(rho):\n",
      "    for Z in rho:\n",
      "        mag = np.abs(Z)\n",
      "        pha = np.arctan2(np.imag(Z), np.real(Z))\n",
      "        fig, axes = plt.subplots(2, 1)\n",
      "        ax = axes[0]\n",
      "        ax.semilogx(frequencies, mag)\n",
      "        ax = axes[1]\n",
      "        ax.semilogx(frequencies, -pha)\n",
      "    \n",
      "print ('t1')\n",
      "%timeit t1()\n",
      "\n",
      "print ('t2')\n",
      "%timeit t2()\n",
      "\n",
      "# a = t1()\n",
      "# b = t2()\n",
      "\n",
      "# print a.shape, b.shape\n",
      "\n",
      "#plot(a)\n",
      "#plot(b)"
     ],
     "language": "python",
     "metadata": {},
     "outputs": [
      {
       "output_type": "stream",
       "stream": "stdout",
       "text": [
        "(1000,) (40,)\n",
        "t1\n",
        "100 loops, best of 3: 10.5 ms per loop"
       ]
      },
      {
       "output_type": "stream",
       "stream": "stdout",
       "text": [
        "\n",
        "t2\n",
        "10 loops, best of 3: 49.5 ms per loop"
       ]
      },
      {
       "output_type": "stream",
       "stream": "stdout",
       "text": [
        "\n"
       ]
      }
     ],
     "prompt_number": 78
    },
    {
     "cell_type": "code",
     "collapsed": false,
     "input": [
      "def test():\n",
      "    for i in range(0, 10):\n",
      "        a = i * 10\n",
      "        \n",
      "%timeit -n 3 test()"
     ],
     "language": "python",
     "metadata": {},
     "outputs": [
      {
       "output_type": "stream",
       "stream": "stdout",
       "text": [
        "3 loops, best of 3: 1.35 us per loop\n"
       ]
      }
     ],
     "prompt_number": 79
    }
   ],
   "metadata": {}
  }
 ]
}